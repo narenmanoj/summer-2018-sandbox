{
 "cells": [
  {
   "cell_type": "code",
   "execution_count": 3,
   "metadata": {},
   "outputs": [
    {
     "name": "stdout",
     "output_type": "stream",
     "text": [
      "Cuda: True\n"
     ]
    }
   ],
   "source": [
    "from importlib import reload\n",
    "import argparse\n",
    "import os\n",
    "import numpy as np\n",
    "import matplotlib.pyplot as plt\n",
    "%matplotlib inline\n",
    "import math\n",
    "\n",
    "import torchvision.transforms as transforms\n",
    "from torchvision.utils import save_image\n",
    "\n",
    "from torch.utils.data import DataLoader\n",
    "from torchvision import datasets\n",
    "from torch.autograd import Variable\n",
    "\n",
    "import torch.nn as nn\n",
    "import torch.nn.functional as F\n",
    "import torch\n",
    "\n",
    "import gan\n",
    "import mnist_classifier as mc\n",
    "\n",
    "cuda = torch.cuda.is_available()\n",
    "\n",
    "print(\"Cuda: \" + str(cuda))\n",
    "Tensor = torch.cuda.FloatTensor if cuda else torch.FloatTensor"
   ]
  },
  {
   "cell_type": "code",
   "execution_count": 8,
   "metadata": {},
   "outputs": [
    {
     "name": "stdout",
     "output_type": "stream",
     "text": [
      "Cuda: True\n"
     ]
    },
    {
     "name": "stderr",
     "output_type": "stream",
     "text": [
      "/home/nsm/sandbox/experiments/mnist_stacked/mnist_classifier.py:71: UserWarning: nn.init.xavier_uniform is now deprecated in favor of nn.init.xavier_uniform_.\n",
      "  nn.init.xavier_uniform(m.weight)\n"
     ]
    },
    {
     "name": "stdout",
     "output_type": "stream",
     "text": [
      "[Epoch 0] [Train Loss: 0.099111]\n",
      "[Epoch 5] [Train Loss: 0.019524]\n",
      "[Epoch 10] [Train Loss: 0.036551]\n",
      "[Epoch 15] [Train Loss: 0.022561]\n",
      "[Epoch 20] [Train Loss: 0.016982]\n",
      "[Epoch 25] [Train Loss: 0.003706]\n",
      "[Epoch 30] [Train Loss: 0.017771]\n",
      "[Epoch 35] [Train Loss: 0.002807]\n",
      "[Epoch 40] [Train Loss: 0.000346]\n",
      "[Epoch 45] [Train Loss: 0.009335]\n"
     ]
    }
   ],
   "source": [
    "reload(mc)\n",
    "model = mc.train()"
   ]
  },
  {
   "cell_type": "code",
   "execution_count": 10,
   "metadata": {},
   "outputs": [
    {
     "name": "stdout",
     "output_type": "stream",
     "text": [
      "Cuda: True\n",
      "Cuda: True\n"
     ]
    },
    {
     "name": "stderr",
     "output_type": "stream",
     "text": [
      "/home/nsm/sandbox/experiments/mnist_stacked/mnist_classifier.py:131: UserWarning: volatile was removed and now has no effect. Use `with torch.no_grad():` instead.\n",
      "/home/nsm/sandbox/experiments/mnist_stacked/mnist_classifier.py:138: UserWarning: invalid index of a 0-dim tensor. This will be an error in PyTorch 0.5. Use tensor.item() to convert a 0-dim tensor to a Python number\n"
     ]
    },
    {
     "name": "stdout",
     "output_type": "stream",
     "text": [
      "\n",
      "Average loss: 0.0175, Accuracy: 9955/10000 (99.000%)\n",
      "\n"
     ]
    }
   ],
   "source": [
    "reload(mc)\n",
    "reload(gan)\n",
    "mc.evaluate(model, gan.get_mnist_dataloader(300, train=False))"
   ]
  },
  {
   "cell_type": "code",
   "execution_count": 11,
   "metadata": {},
   "outputs": [],
   "source": [
    "torch.save(model.state_dict(), \"pretrained_mnist_classifier\")"
   ]
  },
  {
   "cell_type": "code",
   "execution_count": 12,
   "metadata": {},
   "outputs": [
    {
     "name": "stdout",
     "output_type": "stream",
     "text": [
      "Cuda: True\n"
     ]
    },
    {
     "name": "stderr",
     "output_type": "stream",
     "text": [
      "/home/nsm/sandbox/experiments/mnist_stacked/mnist_classifier.py:71: UserWarning: nn.init.xavier_uniform is now deprecated in favor of nn.init.xavier_uniform_.\n",
      "  nn.init.xavier_uniform(m.weight)\n"
     ]
    }
   ],
   "source": [
    "reload(mc)\n",
    "loaded_mod = mc.load_model(\"pretrained_mnist_classifier\")"
   ]
  },
  {
   "cell_type": "code",
   "execution_count": 13,
   "metadata": {},
   "outputs": [
    {
     "name": "stderr",
     "output_type": "stream",
     "text": [
      "/home/nsm/sandbox/experiments/mnist_stacked/mnist_classifier.py:138: UserWarning: volatile was removed and now has no effect. Use `with torch.no_grad():` instead.\n",
      "/home/nsm/sandbox/experiments/mnist_stacked/mnist_classifier.py:145: UserWarning: invalid index of a 0-dim tensor. This will be an error in PyTorch 0.5. Use tensor.item() to convert a 0-dim tensor to a Python number\n"
     ]
    },
    {
     "name": "stdout",
     "output_type": "stream",
     "text": [
      "\n",
      "Average loss: 0.0175, Accuracy: 9955/10000 (99.000%)\n",
      "\n",
      "\n",
      "Average loss: 0.0009, Accuracy: 59980/60000 (99.000%)\n",
      "\n"
     ]
    }
   ],
   "source": [
    "mc.evaluate(loaded_mod, gan.get_mnist_dataloader(300, train=False))\n",
    "mc.evaluate(loaded_mod, gan.get_mnist_dataloader(300, train=True))"
   ]
  },
  {
   "cell_type": "code",
   "execution_count": null,
   "metadata": {},
   "outputs": [],
   "source": []
  }
 ],
 "metadata": {
  "kernelspec": {
   "display_name": "Python 3",
   "language": "python",
   "name": "python3"
  },
  "language_info": {
   "codemirror_mode": {
    "name": "ipython",
    "version": 3
   },
   "file_extension": ".py",
   "mimetype": "text/x-python",
   "name": "python",
   "nbconvert_exporter": "python",
   "pygments_lexer": "ipython3",
   "version": "3.6.6"
  }
 },
 "nbformat": 4,
 "nbformat_minor": 2
}
