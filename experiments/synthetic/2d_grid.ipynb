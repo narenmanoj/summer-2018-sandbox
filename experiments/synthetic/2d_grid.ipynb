{
 "cells": [
  {
   "cell_type": "code",
   "execution_count": null,
   "metadata": {},
   "outputs": [],
   "source": [
    "from importlib import reload\n",
    "import argparse\n",
    "import os\n",
    "import numpy as np\n",
    "import matplotlib.pyplot as plt\n",
    "%matplotlib inline\n",
    "import math\n",
    "\n",
    "import torchvision.transforms as transforms\n",
    "from torchvision.utils import save_image\n",
    "\n",
    "from torch.utils.data import DataLoader\n",
    "from torchvision import datasets\n",
    "from torch.autograd import Variable\n",
    "\n",
    "import torch.nn as nn\n",
    "import torch.nn.functional as F\n",
    "import torch\n",
    "\n",
    "import gan\n",
    "\n",
    "cuda = torch.cuda.is_available()\n",
    "\n",
    "print(\"Cuda: \" + str(cuda))\n",
    "Tensor = torch.cuda.FloatTensor if cuda else torch.FloatTensor"
   ]
  },
  {
   "cell_type": "code",
   "execution_count": null,
   "metadata": {},
   "outputs": [],
   "source": [
    "# here's what the 2D-Grid looks like\n",
    "num_samples = 10000\n",
    "grid_length = 9\n",
    "samples = gan.sample_from_2dgrid(grid_length=grid_length, num_samples=num_samples)\n",
    "plt.title(\"Visualization of 2D-Grid with Grid Length = %d\" % grid_length)\n",
    "plt.scatter(*zip(*samples))"
   ]
  },
  {
   "cell_type": "code",
   "execution_count": null,
   "metadata": {},
   "outputs": [],
   "source": [
    "# run this cell only if you want to train a different GAN\n",
    "\n",
    "# experiment parameters\n",
    "num_samples = 10000 # for plotting\n",
    "num_epochs = 10000\n",
    "num_samples_per_batch = 500\n",
    "grid_length = 9\n",
    "var = 0.0025\n",
    "latent_dim = 2\n",
    "layer_width = 3\n",
    "\n",
    "gen = gan.train(save_model=True, filename=\"ok_generator_81\",\n",
    "                num_samples=num_samples, num_epochs=num_epochs, \n",
    "                num_samples_per_batch=num_samples_per_batch, \n",
    "                grid_length=grid_length, var=var, latent_dim=latent_dim,\n",
    "                layer_width=layer_width)\n",
    "\n",
    "plt.clf()\n",
    "\n",
    "# underlay of true distribution\n",
    "real_samples = gan.sample_from_2dgrid(grid_length=grid_length, num_samples=num_samples)\n",
    "plt.scatter(*zip(*real_samples))\n",
    "\n",
    "# look at some samples\n",
    "num_samples_to_test = 2000\n",
    "z = Variable(Tensor(np.random.normal(0, 1, (num_samples_to_test, latent_dim))))\n",
    "np_samples = gen(z).cpu().detach().numpy()\n",
    "plt.title(\"2D Grid of samples obtained\")\n",
    "plt.scatter(*(zip(*np_samples)))\n",
    "\n",
    "print(\"Grid length = %d\" % grid_length)"
   ]
  },
  {
   "cell_type": "code",
   "execution_count": null,
   "metadata": {},
   "outputs": [],
   "source": [
    "# load the model back and sample from it\n",
    "latent_dim = 2\n",
    "layer_width = 3\n",
    "# loaded_gen = gan.load_model(\"good_generator_2018_07_11\").eval()\n",
    "# loaded_gen = gan.load_model(\"meh_generator_2018_07_11\").eval()\n",
    "\n",
    "loaded_gen = gan.load_model(\"ok_generator_81\", grid_length=grid_length, layer_width=layer_width).eval()\n",
    "\n",
    "plt.clf()\n",
    "\n",
    "real_samples = gan.sample_from_2dgrid(grid_length=grid_length, num_samples=num_samples)\n",
    "plt.scatter(*zip(*real_samples))\n",
    "\n",
    "num_samples_to_test = 20000\n",
    "z = Variable(Tensor(np.random.normal(0, 1, (num_samples_to_test, latent_dim))))\n",
    "np_samples = loaded_gen(z).cpu().detach().numpy()\n",
    "plt.title(\"2D Grid of samples obtained. Grid length = %d\" % grid_length)\n",
    "plt.scatter(*zip(*np_samples), s=2.5)"
   ]
  },
  {
   "cell_type": "code",
   "execution_count": null,
   "metadata": {},
   "outputs": [],
   "source": [
    "plt.clf()\n",
    "gan.visualize_model(loaded_gen, latent_dim=latent_dim, grid_length=grid_length)\n",
    "# real_samples = gan.sample_from_2dgrid(grid_length=grid_length, num_samples=num_samples)\n",
    "# plt.scatter(*zip(*real_samples))\n",
    "\n",
    "# num_samples_to_test = 20000\n",
    "# z = Variable(Tensor(np.random.normal(0, 1, (num_samples_to_test, latent_dim))))\n",
    "# np_samples = loaded_gen(z).cpu().detach().numpy()\n",
    "# np_samples = [gan.classification_function(sample) for sample in np_samples]\n",
    "# plt.title(\"2D Grid of samples obtained\")\n",
    "# plt.scatter(*zip(*np_samples))"
   ]
  },
  {
   "cell_type": "code",
   "execution_count": null,
   "metadata": {},
   "outputs": [],
   "source": [
    "grid_length = 9\n",
    "reload(gan)\n",
    "\n",
    "# gan.visualize_latent_space(loaded_gen, latent_dim=latent_dim, grid_length=grid_length)\n",
    "\n",
    "counts = []\n",
    "latent_vecs = []\n",
    "colors = []\n",
    "for i in range(grid_length * grid_length):\n",
    "    counts.append(0)\n",
    "    colors.append((np.random.uniform(), np.random.uniform(), np.random.uniform()))\n",
    "    latent_vecs.append([])\n",
    "    \n",
    "num_samples_to_test = 20000\n",
    "z = Variable(Tensor(np.random.normal(0, 1, (num_samples_to_test, latent_dim))))\n",
    "np_samples = loaded_gen(z).cpu().detach().numpy()\n",
    "np_latent_vec = z.cpu().numpy()\n",
    "\n",
    "for i in range(num_samples_to_test):\n",
    "    index = gan.point_to_index([np_samples[i]])\n",
    "    current_z = np_latent_vec[i]\n",
    "    counts[index[0][0]] += 1\n",
    "    latent_vecs[index[0][0]].append(current_z)\n",
    "    \n",
    "plt.clf()\n",
    "plt.title(\"Vectors in latent space mapping to different modes for 2D-Grid (grid length %d)\" % grid_length)\n",
    "for i in range(grid_length * grid_length):\n",
    "    if len(latent_vecs[i]) == 0:\n",
    "        continue\n",
    "    plt.scatter(*zip(*latent_vecs[i]), color=colors[i], s=5)"
   ]
  },
  {
   "cell_type": "code",
   "execution_count": null,
   "metadata": {},
   "outputs": [],
   "source": []
  },
  {
   "cell_type": "code",
   "execution_count": null,
   "metadata": {},
   "outputs": [],
   "source": []
  }
 ],
 "metadata": {
  "kernelspec": {
   "display_name": "Python 3",
   "language": "python",
   "name": "python3"
  },
  "language_info": {
   "codemirror_mode": {
    "name": "ipython",
    "version": 3
   },
   "file_extension": ".py",
   "mimetype": "text/x-python",
   "name": "python",
   "nbconvert_exporter": "python",
   "pygments_lexer": "ipython3",
   "version": "3.6.6"
  }
 },
 "nbformat": 4,
 "nbformat_minor": 2
}
