{
 "cells": [
  {
   "cell_type": "code",
   "execution_count": 13,
   "metadata": {},
   "outputs": [
    {
     "name": "stdout",
     "output_type": "stream",
     "text": [
      "Cuda: True\n"
     ]
    }
   ],
   "source": [
    "import argparse\n",
    "import os\n",
    "import numpy as np\n",
    "import matplotlib.pyplot as plt\n",
    "%matplotlib inline\n",
    "import math\n",
    "\n",
    "import torchvision.transforms as transforms\n",
    "from torchvision.utils import save_image\n",
    "\n",
    "from torch.utils.data import DataLoader\n",
    "from torchvision import datasets\n",
    "from torch.autograd import Variable\n",
    "\n",
    "import torch.nn as nn\n",
    "import torch.nn.functional as F\n",
    "import torch\n",
    "\n",
    "cuda = torch.cuda.is_available()\n",
    "\n",
    "print(\"Cuda: \" + str(cuda))"
   ]
  },
  {
   "cell_type": "code",
   "execution_count": 27,
   "metadata": {},
   "outputs": [],
   "source": [
    "# defining generator and discriminator architecture, taken from Github Pytorch-GAN (need to modify hyperparams)\n",
    "class Generator(nn.Module):\n",
    "    def __init__(self, latent_dim=100, img_shape=(2,)):\n",
    "        super(Generator, self).__init__()\n",
    "        \n",
    "        def block(in_feat, out_feat, normalize=True):\n",
    "            layers = [nn.Linear(in_feat, out_feat)]\n",
    "            if normalize:\n",
    "                layers.append(nn.BatchNorm1d(out_feat, 0.8))\n",
    "            layers.append(nn.LeakyReLU(0.2, inplace=True))\n",
    "            return layers\n",
    "        \n",
    "        self.model = nn.Sequential(\n",
    "            *block(latent_dim, 128, normalize=False),\n",
    "            *block(128, 256),\n",
    "            *block(256, 512),\n",
    "            *block(512, 1024),\n",
    "            nn.Linear(1024, int(np.prod(img_shape))),\n",
    "            nn.Tanh()\n",
    "        )\n",
    "        \n",
    "    def forward(self, z):\n",
    "        img = self.model(z)\n",
    "        img = img.view(img.size(0), *img_shape)\n",
    "        return img\n",
    "    \n",
    "class Discriminator(nn.Module):\n",
    "    def __init__(self, img_shape=(2,)):\n",
    "        super(Discriminator, self).__init__()\n",
    "        \n",
    "        self.model = nn.Sequential(\n",
    "            nn.Linear(int(np.prod(img_shape)), 512),\n",
    "            nn.LeakyReLU(0.2, inplace=True),\n",
    "            nn.Linear(512, 256),\n",
    "            nn.LeakyReLU(0.2, inplace=True),\n",
    "            nn.Linear(256, 1),\n",
    "            nn.Sigmoid()\n",
    "        )\n",
    "        \n",
    "    def forward(self, img):\n",
    "        img_flat = img.view(img.size(0), -1)\n",
    "        validity = self.model(img_flat)\n",
    "\n",
    "        return validity"
   ]
  },
  {
   "cell_type": "code",
   "execution_count": 24,
   "metadata": {},
   "outputs": [],
   "source": [
    "# define synthetic distribution\n",
    "# Mixture of 25 two-dimensional spherical Gaussians \n",
    "#   with means $(-4 + 2i, -4+2j)$ and variances \n",
    "#   $0.0025$ for $i, j \\in \\setmath{0, 1, 2, 3, 4}$\n",
    "\n",
    "def sample_from_2dgrid(grid_length=5, var=0.0025):\n",
    "    assert grid_length % 2 == 1\n",
    "    # pick one of the Gaussians at random and then sample from it\n",
    "    coords = np.random.randint(grid_length, size = 2)\n",
    "    start = -2 * (grid_length / 2)\n",
    "    mean = (coords[0] * 2 + start, coords[1] * 2 + start)\n",
    "    p1 = np.random.normal(loc = mean[0], scale = np.sqrt(var))\n",
    "    p2 = np.random.normal(loc = mean[1], scale = np.sqrt(var))\n",
    "    return (p1, p2)"
   ]
  },
  {
   "cell_type": "code",
   "execution_count": 25,
   "metadata": {},
   "outputs": [
    {
     "data": {
      "text/plain": [
       "<matplotlib.collections.PathCollection at 0x7ff3b85acf28>"
      ]
     },
     "execution_count": 25,
     "metadata": {},
     "output_type": "execute_result"
    },
    {
     "data": {
      "image/png": "[encoded data removed]",
      "text/plain": [
       "<Figure size 432x288 with 1 Axes>"
      ]
     },
     "metadata": {},
     "output_type": "display_data"
    }
   ],
   "source": [
    "# here's what the 2D-Grid with grid_length = 5 looks like\n",
    "num_samples = 10000\n",
    "grid_length=9\n",
    "samples = [sample_from_2dgrid(grid_length=grid_length) for i in range(num_samples)]\n",
    "x = [samples[i][0] for i in range(num_samples)]\n",
    "y = [samples[i][1] for i in range(num_samples)]\n",
    "plt.title(\"Visualization of 2D-Grid with Grid Length = %d\" % grid_length)\n",
    "plt.scatter(x, y)"
   ]
  },
  {
   "cell_type": "code",
   "execution_count": 29,
   "metadata": {},
   "outputs": [],
   "source": [
    "Tensor = torch.cuda.FloatTensor if cuda else torch.FloatTensor\n",
    "\n",
    "# experiment parameters\n",
    "num_epochs = 1000\n",
    "num_samples_per_batch = 5\n",
    "grid_length = 5\n",
    "var = 0.0025\n",
    "latent_dim = 100\n",
    "\n",
    "# initialize things\n",
    "generator = Generator(latent_dim=latent_dim)\n",
    "discriminator = Discriminator()\n",
    "if cuda:\n",
    "    generator.cuda()\n",
    "    discriminator.cuda()\n",
    "    adversarial_loss.cuda()\n",
    "    \n",
    "# optimizers\n",
    "learning_rate = 0.0002\n",
    "b1 = 0.5\n",
    "b2 = 0.999\n",
    "amsgrad = True\n",
    "optimizer_G = torch.optim.Adam(generator.parameters(), lr=learning_rate, betas=(b1, b2), amsgrad=amsgrad)\n",
    "optimizer_D = torch.optim.Adam(discriminator.parameters(), lr=learning_rate, betas=(b1, b2), amsgrad=amsgrad)\n",
    "    \n",
    "adversarial_loss = torch.nn.BCELoss()\n",
    "\n",
    "# train the GAN\n",
    "for epoch in range(num_epochs):\n",
    "    # ground truths\n",
    "    valid = Variable(Tensor(num_samples_per_batch, 1).fill(1.0), requires_grad=False)\n",
    "    fake = Variable(Tensor(num_samples_per_batch, 1).fill(0.0), requires_grad=False)\n",
    "    \n",
    "    # input\n",
    "    real_input = Variable(Tensor(sample_from_2dgrid(grid_length=grid_length, var=var)))\n",
    "    \n",
    "    \n",
    "    ########## Generator stuff ##########\n",
    "    # sample latent z\n",
    "    z = Variable(Tensor(np.random.normal(0, 1, (num_samples_per_batch, latent_dim))))\n",
    "    \n",
    "    # get generator output for the latent z\n",
    "    fake_output = generator(z)\n",
    "    \n",
    "    # how well did we fool the discriminator?\n",
    "    g_loss = adversarial_loss(discriminator(fake_output), valid)\n",
    "    \n",
    "    # gradient descent\n",
    "    optimizer_G.zero_grad()\n",
    "    g_loss.backward()\n",
    "    optimizer_G.step()\n",
    "    \n",
    "    ########## Discriminator stuff ##########\n",
    "    \n",
    "    # see how well the discriminator can discriminate\n",
    "    real_loss = adversarial_loss(discriminator(real_input), valid)\n",
    "    fake_loss = adversarial_loss(discriminator(fake_output.detach()), fake)\n",
    "    discriminator_loss = (real_loss + fake_loss) / 2\n",
    "    \n",
    "    # gradient descent\n",
    "    discriminator_loss.backward()\n",
    "    optimizer_D.step()\n",
    "    \n",
    "    # progress prints and checkpointing (checkpointing not implemented)\n",
    "    print(\"[Epoch %d/%d] [Discriminator Loss: %f] [Generator Loss: %f]\" % \n",
    "          (epoch, num_epochs, d_loss.item(), g_loss.item()))"
   ]
  },
  {
   "cell_type": "code",
   "execution_count": null,
   "metadata": {},
   "outputs": [],
   "source": []
  }
 ],
 "metadata": {
  "kernelspec": {
   "display_name": "Python 3",
   "language": "python",
   "name": "python3"
  },
  "language_info": {
   "codemirror_mode": {
    "name": "ipython",
    "version": 3
   },
   "file_extension": ".py",
   "mimetype": "text/x-python",
   "name": "python",
   "nbconvert_exporter": "python",
   "pygments_lexer": "ipython3",
   "version": "3.6.6"
  }
 },
 "nbformat": 4,
 "nbformat_minor": 2
}
