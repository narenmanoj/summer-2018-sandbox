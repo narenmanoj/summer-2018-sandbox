{
 "cells": [
  {
   "cell_type": "code",
   "execution_count": 9,
   "metadata": {},
   "outputs": [
    {
     "name": "stdout",
     "output_type": "stream",
     "text": [
      "Cuda: True\n"
     ]
    }
   ],
   "source": [
    "import argparse\n",
    "import os\n",
    "import numpy as np\n",
    "import matplotlib.pyplot as plt\n",
    "%matplotlib inline\n",
    "import math\n",
    "\n",
    "import torchvision.transforms as transforms\n",
    "from torchvision.utils import save_image\n",
    "\n",
    "from torch.utils.data import DataLoader\n",
    "from torchvision import datasets\n",
    "from torch.autograd import Variable\n",
    "\n",
    "import torch.nn as nn\n",
    "import torch.nn.functional as F\n",
    "import torch\n",
    "\n",
    "cuda = torch.cuda.is_available()\n",
    "\n",
    "print(\"Cuda: \" + str(cuda))\n",
    "Tensor = torch.cuda.FloatTensor if cuda else torch.FloatTensor"
   ]
  },
  {
   "cell_type": "code",
   "execution_count": 10,
   "metadata": {},
   "outputs": [],
   "source": [
    "# defining generator and discriminator architecture, taken from Github Pytorch-GAN (need to modify hyperparams)\n",
    "class Generator(nn.Module):\n",
    "    def __init__(self, latent_dim=100, img_shape=(2,)):\n",
    "        super(Generator, self).__init__()\n",
    "        \n",
    "        self.img_shape = img_shape\n",
    "        \n",
    "        def block(in_feat, out_feat, normalize=True):\n",
    "            layers = [nn.Linear(in_feat, out_feat)]\n",
    "            if normalize:\n",
    "                layers.append(nn.BatchNorm1d(out_feat, 0.8))\n",
    "            layers.append(nn.LeakyReLU(0.0, inplace=True))\n",
    "            return layers\n",
    "        \n",
    "        self.model = nn.Sequential(\n",
    "            *block(latent_dim, 400, normalize=True),\n",
    "            *block(400, 400),\n",
    "            *block(400, 400),\n",
    "            *block(400, 400),\n",
    "            nn.Linear(400, int(np.prod(img_shape)))\n",
    "        )\n",
    "        \n",
    "    def forward(self, z):\n",
    "        img = self.model(z)\n",
    "        img = img.view(img.size(0), *self.img_shape)\n",
    "        return img\n",
    "    \n",
    "class Discriminator(nn.Module):\n",
    "    def __init__(self, img_shape=(2,)):\n",
    "        super(Discriminator, self).__init__()\n",
    "        \n",
    "        self.model = nn.Sequential(\n",
    "            nn.Linear(int(np.prod(img_shape)), 200),\n",
    "            nn.LeakyReLU(0.2, inplace=True),\n",
    "            nn.Linear(200, 200),\n",
    "            nn.LeakyReLU(0.2, inplace=True),\n",
    "            nn.Linear(200, 1),\n",
    "            nn.Sigmoid()\n",
    "        )\n",
    "        \n",
    "    def forward(self, img):\n",
    "        img_flat = img.view(img.size(0), -1)\n",
    "        validity = self.model(img_flat)\n",
    "\n",
    "        return validity"
   ]
  },
  {
   "cell_type": "code",
   "execution_count": 11,
   "metadata": {},
   "outputs": [],
   "source": [
    "# define synthetic distribution\n",
    "# Mixture of 25 two-dimensional spherical Gaussians \n",
    "#   with means $(-4 + 2i, -4+2j)$ and variances \n",
    "#   $0.0025$ for $i, j \\in \\setmath{0, 1, 2, 3, 4}$\n",
    "\n",
    "def sample_from_2dgrid(grid_length=5, var=0.0025, num_samples=1):\n",
    "    assert grid_length % 2 == 1\n",
    "    samples = []\n",
    "    # pick one of the Gaussians at random and then sample from it\n",
    "    for i in range(num_samples):\n",
    "        coords = np.random.randint(grid_length, size = 2)\n",
    "        start = -2 * (grid_length // 2)\n",
    "        mean = (coords[0] * 2 + start, coords[1] * 2 + start)\n",
    "        p1 = np.random.normal(loc = mean[0], scale = np.sqrt(var))\n",
    "        p2 = np.random.normal(loc = mean[1], scale = np.sqrt(var))\n",
    "        samples.append((p1, p2))\n",
    "    return samples"
   ]
  },
  {
   "cell_type": "code",
   "execution_count": null,
   "metadata": {},
   "outputs": [],
   "source": [
    "# here's what the 2D-Grid looks like\n",
    "num_samples = 10000\n",
    "grid_length = 5\n",
    "samples = sample_from_2dgrid(grid_length=grid_length, num_samples=num_samples)\n",
    "x = [samples[i][0] for i in range(num_samples)]\n",
    "y = [samples[i][1] for i in range(num_samples)]\n",
    "plt.title(\"Visualization of 2D-Grid with Grid Length = %d\" % grid_length)\n",
    "plt.scatter(x, y)"
   ]
  },
  {
   "cell_type": "code",
   "execution_count": 12,
   "metadata": {},
   "outputs": [],
   "source": [
    "# experiment parameters\n",
    "num_samples = 10000 # for plotting\n",
    "num_epochs = 10000\n",
    "num_samples_per_batch = 500\n",
    "grid_length = 5\n",
    "var = 0.0025\n",
    "latent_dim = 2"
   ]
  },
  {
   "cell_type": "code",
   "execution_count": null,
   "metadata": {},
   "outputs": [],
   "source": [
    "# initialize things\n",
    "generator = Generator(latent_dim=latent_dim)\n",
    "discriminator = Discriminator()\n",
    "adversarial_loss = torch.nn.BCELoss()\n",
    "if cuda:\n",
    "    generator.cuda()\n",
    "    discriminator.cuda()\n",
    "    adversarial_loss.cuda()\n",
    "    \n",
    "# optimizers\n",
    "learning_rate = 0.0002\n",
    "b1 = 0.5\n",
    "b2 = 0.999\n",
    "amsgrad = True\n",
    "optimizer_G = torch.optim.Adam(generator.parameters(), lr=8*learning_rate, betas=(b1, b2), amsgrad=amsgrad)\n",
    "optimizer_D = torch.optim.Adam(discriminator.parameters(), lr=learning_rate, betas=(b1, b2), amsgrad=amsgrad)\n",
    "\n",
    "# underlay of true distribution\n",
    "real_samples = sample_from_2dgrid(grid_length=grid_length, num_samples=num_samples)\n",
    "x = [real_samples[i][0] for i in range(num_samples)]\n",
    "y = [real_samples[i][1] for i in range(num_samples)]\n",
    "\n",
    "# train the GAN\n",
    "for epoch in range(num_epochs):\n",
    "    # ground truths\n",
    "    valid = Variable(Tensor(num_samples_per_batch, 1).fill_(1.0), requires_grad=False)\n",
    "    fake = Variable(Tensor(num_samples_per_batch, 1).fill_(0.0), requires_grad=False)\n",
    "    \n",
    "    # input\n",
    "    real_input = Variable(Tensor(sample_from_2dgrid(grid_length=grid_length, \n",
    "                                                    var=var, \n",
    "                                                    num_samples=num_samples_per_batch)))\n",
    "    \n",
    "    \n",
    "    ########## Generator stuff ##########\n",
    "    optimizer_G.zero_grad()\n",
    "    # sample latent z\n",
    "    z = Variable(Tensor(np.random.normal(loc=0.0, scale=1.0, size=(num_samples_per_batch, latent_dim))))\n",
    "    \n",
    "    # get generator output for the latent z\n",
    "    fake_output = generator(z)\n",
    "    \n",
    "    # how well did we fool the discriminator?\n",
    "    g_loss = adversarial_loss(discriminator(fake_output), valid)\n",
    "    \n",
    "    # gradient descent\n",
    "    g_loss.backward()\n",
    "    optimizer_G.step()\n",
    "    \n",
    "    ########## Discriminator stuff ##########\n",
    "    optimizer_D.zero_grad()\n",
    "    # see how well the discriminator can discriminate\n",
    "    real_loss = adversarial_loss(discriminator(real_input), valid)\n",
    "    fake_loss = adversarial_loss(discriminator(fake_output.detach()), fake)\n",
    "    d_loss = (real_loss + fake_loss) / 2\n",
    "    \n",
    "    # gradient descent\n",
    "    d_loss.backward()\n",
    "    optimizer_D.step()\n",
    "    \n",
    "    # progress prints and checkpointing (checkpointing not implemented)\n",
    "    if epoch % (num_epochs // 10) == 0:\n",
    "        print(\"[Epoch %d/%d] [Discriminator Loss: %f] [Generator Loss: %f]\" % \n",
    "              (epoch, num_epochs, d_loss.item(), g_loss.item()))\n",
    "    \n",
    "    if epoch % (num_epochs // 10) == 0:\n",
    "        num_samples_to_test = 200\n",
    "        z = Variable(Tensor(np.random.normal(0, 1, (num_samples_to_test, latent_dim))))\n",
    "        np_samples = generator(z).cpu().detach().numpy()\n",
    "        x_sampled = [sample[0] for sample in np_samples]\n",
    "        y_sampled = [sample[1] for sample in np_samples]\n",
    "        plt.title(\"2D Grid of samples obtained\")\n",
    "        plt.scatter(x, y)\n",
    "        plt.scatter(x_sampled, y_sampled)\n",
    "        plt.show()"
   ]
  },
  {
   "cell_type": "code",
   "execution_count": 13,
   "metadata": {},
   "outputs": [
    {
     "ename": "NameError",
     "evalue": "name 'generator' is not defined",
     "output_type": "error",
     "traceback": [
      "\u001b[0;31m---------------------------------------------------------------------------\u001b[0m",
      "\u001b[0;31mNameError\u001b[0m                                 Traceback (most recent call last)",
      "\u001b[0;32m<ipython-input-13-8846c5fd7ef4>\u001b[0m in \u001b[0;36m<module>\u001b[0;34m()\u001b[0m\n\u001b[1;32m     10\u001b[0m \u001b[0mnum_samples_to_test\u001b[0m \u001b[0;34m=\u001b[0m \u001b[0;36m2000\u001b[0m\u001b[0;34m\u001b[0m\u001b[0m\n\u001b[1;32m     11\u001b[0m \u001b[0mz\u001b[0m \u001b[0;34m=\u001b[0m \u001b[0mVariable\u001b[0m\u001b[0;34m(\u001b[0m\u001b[0mTensor\u001b[0m\u001b[0;34m(\u001b[0m\u001b[0mnp\u001b[0m\u001b[0;34m.\u001b[0m\u001b[0mrandom\u001b[0m\u001b[0;34m.\u001b[0m\u001b[0mnormal\u001b[0m\u001b[0;34m(\u001b[0m\u001b[0;36m0\u001b[0m\u001b[0;34m,\u001b[0m \u001b[0;36m1\u001b[0m\u001b[0;34m,\u001b[0m \u001b[0;34m(\u001b[0m\u001b[0mnum_samples_to_test\u001b[0m\u001b[0;34m,\u001b[0m \u001b[0mlatent_dim\u001b[0m\u001b[0;34m)\u001b[0m\u001b[0;34m)\u001b[0m\u001b[0;34m)\u001b[0m\u001b[0;34m)\u001b[0m\u001b[0;34m\u001b[0m\u001b[0m\n\u001b[0;32m---> 12\u001b[0;31m \u001b[0mnp_samples\u001b[0m \u001b[0;34m=\u001b[0m \u001b[0mgenerator\u001b[0m\u001b[0;34m(\u001b[0m\u001b[0mz\u001b[0m\u001b[0;34m)\u001b[0m\u001b[0;34m.\u001b[0m\u001b[0mcpu\u001b[0m\u001b[0;34m(\u001b[0m\u001b[0;34m)\u001b[0m\u001b[0;34m.\u001b[0m\u001b[0mdetach\u001b[0m\u001b[0;34m(\u001b[0m\u001b[0;34m)\u001b[0m\u001b[0;34m.\u001b[0m\u001b[0mnumpy\u001b[0m\u001b[0;34m(\u001b[0m\u001b[0;34m)\u001b[0m\u001b[0;34m\u001b[0m\u001b[0m\n\u001b[0m\u001b[1;32m     13\u001b[0m \u001b[0mx_sampled\u001b[0m \u001b[0;34m=\u001b[0m \u001b[0;34m[\u001b[0m\u001b[0msample\u001b[0m\u001b[0;34m[\u001b[0m\u001b[0;36m0\u001b[0m\u001b[0;34m]\u001b[0m \u001b[0;32mfor\u001b[0m \u001b[0msample\u001b[0m \u001b[0;32min\u001b[0m \u001b[0mnp_samples\u001b[0m\u001b[0;34m]\u001b[0m\u001b[0;34m\u001b[0m\u001b[0m\n\u001b[1;32m     14\u001b[0m \u001b[0my_sampled\u001b[0m \u001b[0;34m=\u001b[0m \u001b[0;34m[\u001b[0m\u001b[0msample\u001b[0m\u001b[0;34m[\u001b[0m\u001b[0;36m1\u001b[0m\u001b[0;34m]\u001b[0m \u001b[0;32mfor\u001b[0m \u001b[0msample\u001b[0m \u001b[0;32min\u001b[0m \u001b[0mnp_samples\u001b[0m\u001b[0;34m]\u001b[0m\u001b[0;34m\u001b[0m\u001b[0m\n",
      "\u001b[0;31mNameError\u001b[0m: name 'generator' is not defined"
     ]
    },
    {
     "data": {
      "image/png": "[encoded data removed]",
      "text/plain": [
       "<Figure size 432x288 with 1 Axes>"
      ]
     },
     "metadata": {},
     "output_type": "display_data"
    }
   ],
   "source": [
    "plt.clf()\n",
    "\n",
    "# underlay of true distribution\n",
    "real_samples = sample_from_2dgrid(grid_length=grid_length, num_samples=num_samples)\n",
    "x = [real_samples[i][0] for i in range(num_samples)]\n",
    "y = [real_samples[i][1] for i in range(num_samples)]\n",
    "plt.scatter(x, y)\n",
    "\n",
    "# look at some samples\n",
    "num_samples_to_test = 2000\n",
    "z = Variable(Tensor(np.random.normal(0, 1, (num_samples_to_test, latent_dim))))\n",
    "np_samples = generator(z).cpu().detach().numpy()\n",
    "x_sampled = [sample[0] for sample in np_samples]\n",
    "y_sampled = [sample[1] for sample in np_samples]\n",
    "plt.title(\"2D Grid of samples obtained\")\n",
    "plt.scatter(x_sampled, y_sampled)\n",
    "\n",
    "print(\"Grid length = %d\" % grid_length)"
   ]
  },
  {
   "cell_type": "code",
   "execution_count": null,
   "metadata": {},
   "outputs": [],
   "source": [
    "# save the model\n",
    "torch.save(generator.state_dict(), \"good_generator_2018_07_11\")"
   ]
  },
  {
   "cell_type": "code",
   "execution_count": 14,
   "metadata": {},
   "outputs": [
    {
     "name": "stdout",
     "output_type": "stream",
     "text": [
      "Grid length = 5\n"
     ]
    },
    {
     "data": {
      "image/png": "[encoded data removed]",
      "text/plain": [
       "<Figure size 432x288 with 1 Axes>"
      ]
     },
     "metadata": {},
     "output_type": "display_data"
    }
   ],
   "source": [
    "# load the model back and sample from it\n",
    "loaded_gen = Generator(latent_dim=2)\n",
    "loaded_gen.load_state_dict(torch.load(\"good_generator_2018_07_11\"))\n",
    "if cuda:\n",
    "    loaded_gen.cuda()\n",
    "\n",
    "plt.clf()\n",
    "\n",
    "real_samples = sample_from_2dgrid(grid_length=grid_length, num_samples=num_samples)\n",
    "x = [real_samples[i][0] for i in range(num_samples)]\n",
    "y = [real_samples[i][1] for i in range(num_samples)]\n",
    "plt.scatter(x, y)\n",
    "\n",
    "num_samples_to_test = 2000\n",
    "z = Variable(Tensor(np.random.normal(0, 1, (num_samples_to_test, latent_dim))))\n",
    "np_samples = loaded_gen(z).cpu().detach().numpy()\n",
    "x_sampled = [sample[0] for sample in np_samples]\n",
    "y_sampled = [sample[1] for sample in np_samples]\n",
    "plt.title(\"2D Grid of samples obtained\")\n",
    "plt.scatter(x_sampled, y_sampled)\n",
    "\n",
    "print(\"Grid length = %d\" % grid_length)"
   ]
  },
  {
   "cell_type": "code",
   "execution_count": 15,
   "metadata": {},
   "outputs": [
    {
     "data": {
      "text/plain": [
       "<matplotlib.collections.PathCollection at 0x7f4cfde120b8>"
      ]
     },
     "execution_count": 15,
     "metadata": {},
     "output_type": "execute_result"
    },
    {
     "data": {
      "image/png": "[encoded data removed]",
      "text/plain": [
       "<Figure size 432x288 with 1 Axes>"
      ]
     },
     "metadata": {},
     "output_type": "display_data"
    }
   ],
   "source": [
    "# implement the classification function which sends\n",
    "# each point to its closest center. each center is\n",
    "# (2x, 2y) for some x, y \\in {-2, -1, 0, 1, 2}\n",
    "def classification_function(point):\n",
    "    x, y = point[0], point[1]\n",
    "    def send_to_nearest_even(x):\n",
    "        p1 = int(x)\n",
    "        if p1 % 2 == 0:\n",
    "            return p1\n",
    "        if p1 >= 1:\n",
    "            return p1 + 1\n",
    "        return p1 - 1\n",
    "    return send_to_nearest_even(x), send_to_nearest_even(y)\n",
    "\n",
    "# and observe the classification function on samples from generator\n",
    "plt.clf()\n",
    "real_samples = sample_from_2dgrid(grid_length=grid_length, num_samples=num_samples)\n",
    "x = [real_samples[i][0] for i in range(num_samples)]\n",
    "y = [real_samples[i][1] for i in range(num_samples)]\n",
    "plt.scatter(x, y)\n",
    "\n",
    "num_samples_to_test = 2000\n",
    "z = Variable(Tensor(np.random.normal(0, 1, (num_samples_to_test, latent_dim))))\n",
    "np_samples = loaded_gen(z).cpu().detach().numpy()\n",
    "np_samples = [classification_function(sample) for sample in np_samples]\n",
    "x_sampled = [sample[0] for sample in np_samples]\n",
    "y_sampled = [sample[1] for sample in np_samples]\n",
    "plt.title(\"2D Grid of samples obtained\")\n",
    "plt.scatter(x_sampled, y_sampled)"
   ]
  },
  {
   "cell_type": "code",
   "execution_count": 20,
   "metadata": {},
   "outputs": [
    {
     "name": "stdout",
     "output_type": "stream",
     "text": [
      "(0.2591433379675806, 0.1934301792687806, 0.494936403972871)\n",
      "(0.6636840482119782, 0.7803026065830683, 0.3812736135770237)\n",
      "(0.7098918904547622, 0.42436981902368587, 0.9845748329569614)\n",
      "(0.6222469005365053, 0.02083779700906474, 0.2899057965156391)\n",
      "(0.353207442767848, 0.6954228596198087, 0.26987875359831504)\n",
      "(0.2946648786621433, 0.2549551221485684, 0.18888507887267225)\n",
      "(0.8816739291156904, 0.03418314858461813, 0.7216385602231975)\n",
      "(0.23290790724990162, 0.732806060750397, 0.2868877549997124)\n",
      "(0.769857375343501, 0.08170834731929988, 0.6519370243595087)\n",
      "(0.7399131147006464, 0.683606062579588, 0.742083340610829)\n",
      "(0.33957924018609154, 0.7761398352734188, 0.32279917475965614)\n",
      "(0.10334553757963683, 0.2985163722285181, 0.43655599632040554)\n",
      "(0.16466541203131946, 0.9282273891337427, 0.21557155536957873)\n",
      "(0.5517352912225199, 0.9601464960022373, 0.7658359261134655)\n",
      "(0.8166464463312677, 0.5050498102220474, 0.7708552307929993)\n",
      "(0.620527505041388, 0.39138906177416455, 0.422527960210229)\n",
      "(0.4867822265534816, 0.13401215211263917, 0.8010961504680818)\n",
      "(0.2538290371861466, 0.5678258208753473, 0.9279341991670574)\n",
      "(0.14882876580539062, 0.1954141429328471, 0.4633555113841553)\n",
      "(0.5728503295876948, 0.8341801129504548, 0.2285415763698957)\n",
      "(0.41703758022451054, 0.530544976238239, 0.39918241011834177)\n",
      "(0.555687276335452, 0.0897795504109331, 0.29481823473155233)\n",
      "(0.4660404375478907, 0.7539540635615015, 0.8686130277592977)\n",
      "(0.28177196630445334, 0.2336502888781844, 0.48944836135675396)\n",
      "(0.1453484085015857, 0.6042066658244273, 0.7550594429315047)\n"
     ]
    },
    {
     "data": {
      "image/png": "[encoded data removed]",
      "text/plain": [
       "<Figure size 432x288 with 1 Axes>"
      ]
     },
     "metadata": {},
     "output_type": "display_data"
    }
   ],
   "source": [
    "# visualizing latent space. here we require latent_dim = 2\n",
    "def point_to_index(point):\n",
    "    closest = classification_function(point)\n",
    "    i = int(closest[0]) / 2 + grid_length // 2\n",
    "    j = int(closest[1]) / 2 + grid_length // 2\n",
    "    return int(5 * i + j)\n",
    "\n",
    "counts = []\n",
    "latent_vecs = []\n",
    "colors = []\n",
    "for i in range(grid_length * grid_length):\n",
    "    counts.append(0)\n",
    "    colors.append((np.random.uniform(), np.random.uniform(), np.random.uniform()))\n",
    "    latent_vecs.append([])\n",
    "    \n",
    "num_samples_to_test = 2000\n",
    "z = Variable(Tensor(np.random.normal(0, 1, (num_samples_to_test, latent_dim))))\n",
    "np_samples = loaded_gen(z).cpu().detach().numpy()\n",
    "np_latent_vec = z.cpu().numpy()\n",
    "\n",
    "for i in range(num_samples_to_test):\n",
    "    index = point_to_index(np_samples[i])\n",
    "    current_z = np_latent_vec[i]\n",
    "    counts[index] += 1\n",
    "    latent_vecs[index].append(current_z)\n",
    "    \n",
    "plt.clf()\n",
    "for i in range(grid_length * grid_length):\n",
    "    plt.scatter(*zip(*latent_vecs[i]), color=colors[i])"
   ]
  },
  {
   "cell_type": "code",
   "execution_count": null,
   "metadata": {},
   "outputs": [],
   "source": []
  }
 ],
 "metadata": {
  "kernelspec": {
   "display_name": "Python 3",
   "language": "python",
   "name": "python3"
  },
  "language_info": {
   "codemirror_mode": {
    "name": "ipython",
    "version": 3
   },
   "file_extension": ".py",
   "mimetype": "text/x-python",
   "name": "python",
   "nbconvert_exporter": "python",
   "pygments_lexer": "ipython3",
   "version": "3.6.6"
  }
 },
 "nbformat": 4,
 "nbformat_minor": 2
}
