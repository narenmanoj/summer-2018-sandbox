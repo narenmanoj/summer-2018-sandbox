{
 "cells": [
  {
   "cell_type": "code",
   "execution_count": 1,
   "metadata": {},
   "outputs": [
    {
     "name": "stdout",
     "output_type": "stream",
     "text": [
      "Cuda: True\n",
      "Cuda: True\n"
     ]
    }
   ],
   "source": [
    "import argparse\n",
    "import os\n",
    "import numpy as np\n",
    "import matplotlib.pyplot as plt\n",
    "%matplotlib inline\n",
    "import math\n",
    "\n",
    "import torchvision.transforms as transforms\n",
    "from torchvision.utils import save_image\n",
    "\n",
    "from torch.utils.data import DataLoader\n",
    "from torchvision import datasets\n",
    "from torch.autograd import Variable\n",
    "\n",
    "import torch.nn as nn\n",
    "import torch.nn.functional as F\n",
    "import torch\n",
    "\n",
    "import gan\n",
    "\n",
    "cuda = torch.cuda.is_available()\n",
    "\n",
    "print(\"Cuda: \" + str(cuda))\n",
    "Tensor = torch.cuda.FloatTensor if cuda else torch.FloatTensor"
   ]
  },
  {
   "cell_type": "code",
   "execution_count": 2,
   "metadata": {},
   "outputs": [],
   "source": [
    "# load the model back and sample from it\n",
    "latent_dim = 2\n",
    "loaded_gen = gan.load_model(\"good_generator_2018_07_11\").eval()\n",
    "\n",
    "for param in loaded_gen.parameters():\n",
    "    param.requires_grad = False\n",
    "\n"
   ]
  },
  {
   "cell_type": "code",
   "execution_count": 3,
   "metadata": {},
   "outputs": [],
   "source": [
    "z = Variable(Tensor(np.random.normal(0, 1, (1, latent_dim))), requires_grad=False)\n",
    "r = gan.dist_to_boundary(loaded_gen, z, latent_dim=latent_dim, lr=0.125)"
   ]
  },
  {
   "cell_type": "code",
   "execution_count": 4,
   "metadata": {},
   "outputs": [
    {
     "name": "stdout",
     "output_type": "stream",
     "text": [
      "tensor(197.1616, device='cuda:0')\n"
     ]
    },
    {
     "data": {
      "text/plain": [
       "tensor([[-0.3637,  0.0405]], device='cuda:0')"
      ]
     },
     "execution_count": 4,
     "metadata": {},
     "output_type": "execute_result"
    }
   ],
   "source": [
    "print(gan.class_radius_loss(loaded_gen, z, r))\n",
    "r"
   ]
  },
  {
   "cell_type": "code",
   "execution_count": 5,
   "metadata": {},
   "outputs": [
    {
     "name": "stdout",
     "output_type": "stream",
     "text": [
      "Iteration 0\n",
      "Iteration 50\n",
      "Iteration 100\n",
      "Iteration 150\n",
      "Iteration 200\n",
      "Iteration 250\n",
      "Iteration 300\n",
      "Iteration 350\n",
      "Iteration 400\n",
      "Iteration 450\n",
      "Iteration 500\n",
      "Iteration 550\n",
      "Iteration 600\n",
      "Iteration 650\n",
      "Iteration 700\n",
      "Iteration 750\n",
      "Iteration 800\n",
      "Iteration 850\n",
      "Iteration 900\n",
      "Iteration 950\n",
      "0.29766593368351457\n"
     ]
    }
   ],
   "source": [
    "print(gan.class_radius(loaded_gen))"
   ]
  },
  {
   "cell_type": "code",
   "execution_count": 6,
   "metadata": {},
   "outputs": [
    {
     "name": "stdout",
     "output_type": "stream",
     "text": [
      "Iteration 0\n",
      "Iteration 50\n",
      "Iteration 100\n",
      "Iteration 150\n",
      "Iteration 200\n",
      "Iteration 250\n",
      "Iteration 300\n",
      "Iteration 350\n",
      "Iteration 400\n",
      "Iteration 450\n",
      "Iteration 500\n",
      "Iteration 550\n",
      "Iteration 600\n",
      "Iteration 650\n",
      "Iteration 700\n",
      "Iteration 750\n",
      "Iteration 800\n",
      "Iteration 850\n",
      "Iteration 900\n",
      "Iteration 950\n",
      "0.2937938984557986\n"
     ]
    }
   ],
   "source": [
    "print(gan.class_radius(loaded_gen))"
   ]
  },
  {
   "cell_type": "code",
   "execution_count": 7,
   "metadata": {},
   "outputs": [
    {
     "name": "stdout",
     "output_type": "stream",
     "text": [
      "Iteration 0\n",
      "Iteration 50\n",
      "Iteration 100\n",
      "Iteration 150\n",
      "Iteration 200\n",
      "Iteration 250\n",
      "Iteration 300\n",
      "Iteration 350\n",
      "Iteration 400\n",
      "Iteration 450\n",
      "Iteration 500\n",
      "Iteration 550\n",
      "Iteration 600\n",
      "Iteration 650\n",
      "Iteration 700\n",
      "Iteration 750\n",
      "Iteration 800\n",
      "Iteration 850\n",
      "Iteration 900\n",
      "Iteration 950\n",
      "0.3083889993019402\n"
     ]
    }
   ],
   "source": [
    "print(gan.class_radius(loaded_gen))"
   ]
  },
  {
   "cell_type": "code",
   "execution_count": null,
   "metadata": {},
   "outputs": [],
   "source": []
  }
 ],
 "metadata": {
  "kernelspec": {
   "display_name": "Python 3",
   "language": "python",
   "name": "python3"
  },
  "language_info": {
   "codemirror_mode": {
    "name": "ipython",
    "version": 3
   },
   "file_extension": ".py",
   "mimetype": "text/x-python",
   "name": "python",
   "nbconvert_exporter": "python",
   "pygments_lexer": "ipython3",
   "version": "3.6.6"
  }
 },
 "nbformat": 4,
 "nbformat_minor": 2
}
